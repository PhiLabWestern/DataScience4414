{
 "cells": [
  {
   "cell_type": "markdown",
   "metadata": {},
   "source": [
    "# Python Programming Questions"
   ]
  },
  {
   "cell_type": "markdown",
   "metadata": {},
   "source": [
    "## Question 1\n",
    "\n",
    "Write a function which takes as an argument a sentence (as a string) and returns the sentence where each word has been reversed *but the order of the words remains the same*.  Name the function `reverse_words`.  Shown below are some examples.\n",
    "\n",
    "\n",
    "**Input**: \"My Cat Is Small\"\n",
    "\n",
    "**Expected Output**: 'yM taC sI llamS'\n",
    "\n",
    "\n",
    "**Input**: \"Data science is a hot topic in industry\"\n",
    "\n",
    "**Expected Output**: \"ataD ecneics si a toh cipot ni yrtsudni\"\n",
    "\n",
    "**Rationale Behind Question**: To solve the question, students should be knowledgable in loops and/or list comprehension.  Students will need to first break the word up at spaces (if they are unfamilliar with string manipulation, a hint may be provided), then loop through the list of words, reversing each word by slicing the string.  If successful, students show proper understanding of loops and slicing."
   ]
  },
  {
   "cell_type": "code",
   "execution_count": 9,
   "metadata": {},
   "outputs": [
    {
     "name": "stdout",
     "output_type": "stream",
     "text": [
      "yM taC sI llamS\n",
      "ataD ecneics si a toh cipot ni yrtsudni\n"
     ]
    }
   ],
   "source": [
    "def reverse_words(sentence):\n",
    "    \n",
    "    split_sentence = sentence.split()\n",
    "    \n",
    "    revd_words = [word[::-1] for word in split_sentence]\n",
    "    \n",
    "    return ' '.join(revd_words)\n",
    "\n",
    "print(reverse_words('My Cat Is Small'))\n",
    "\n",
    "print(reverse_words('Data science is a hot topic in industry'))"
   ]
  },
  {
   "cell_type": "markdown",
   "metadata": {},
   "source": [
    "# Question 2\n",
    "\n",
    "Shown below is data relating to the position of a car in meters. The data was recorded at the indicated times below (so at time = 1, the car was 1 meter from the starting position).  Load the data as a numpy array. Calculate the average speed at which the car was traveling between time points.  Do this with a loop and again using array slicing.\n",
    "\n",
    "Hint: Speed = (Distance Travelled)/(Time To Travel Distance)\n",
    "\n",
    "\n",
    "speeds: [0, 1, 1.2, 1.8, 2.0, 1.7, 1.5, 1.9, 2.1, 2.3]\n",
    "\n",
    "times:  [0, 1, 1.5, 1.9, 2.3, 2.7, 3.8, 4.8, 5.4, 7.0]\n",
    "\n",
    "**Rationale Behind Question**: Students should be familliar with vectorization since it is faster, and more readable.  Partial points may be awarded for the solution involving loops, since keeping track of indicies can be tricky."
   ]
  },
  {
   "cell_type": "code",
   "execution_count": 10,
   "metadata": {},
   "outputs": [
    {
     "data": {
      "text/plain": [
       "True"
      ]
     },
     "execution_count": 10,
     "metadata": {},
     "output_type": "execute_result"
    }
   ],
   "source": [
    "import numpy as np\n",
    "\n",
    "position = np.array([0, 1, 1.2, 1.8, 2.0, 1.7, 1.5, 1.9, 2.1, 2.3])\n",
    "times = np.array([0, 1, 1.5, 1.9, 2.3, 2.7, 3.8, 4.8, 5.4, 7.0])\n",
    "\n",
    "#With slicing\n",
    "speed_vectorized = (position[1:] - position[:-1])/(times[1:] - times[:-1])\n",
    "\n",
    "#Without slicing\n",
    "speed = np.zeros(position.size - 1)\n",
    "for i in range(speed.size):\n",
    "    speed[i] = (position[i+1] - position[i])/(times[i+1] - times[i])\n",
    "    \n",
    "#Both are equivalent\n",
    "np.isclose(speed,speed_vectorized, rtol = 1e-8).all()\n",
    "    "
   ]
  },
  {
   "cell_type": "markdown",
   "metadata": {},
   "source": [
    "# Question 3"
   ]
  },
  {
   "cell_type": "markdown",
   "metadata": {},
   "source": [
    "Generate a random 100 by 100 2d array of integers using `numpy.random.randint` ranging from 1 to 100.  To ensure your answer is the same as ours, set the random seed to `19920908`. \n",
    "\n",
    "Which row has the largest mean?\n",
    "\n",
    "Which column has the smallest sum?\n",
    "\n",
    "Which is the first column (from left to right) to have sum exceding 600?\n",
    "\n",
    "Answer these questions without the use of a loop.\n",
    "\n",
    "Hint: The `argmin`, `argmax`, and `argwhere` functions may be useful.\n",
    "\n",
    "**Rationale Behind Question**: This question is intended to make students look up function arguments. This is an important skill to have and will likely prevent being inundated with small, easy questions.  If students are not familliar with the `numpy.random.randint`, `argmin`, `argmax`, and/or `argwhere` functions, they should be capable of looking up documentation. "
   ]
  },
  {
   "cell_type": "code",
   "execution_count": 11,
   "metadata": {},
   "outputs": [
    {
     "name": "stdout",
     "output_type": "stream",
     "text": [
      "73\n",
      "92\n",
      "13\n"
     ]
    }
   ],
   "source": [
    "np.random.seed(19920908)\n",
    "\n",
    "#The plus 1 here is tricky.\n",
    "X = np.random.randint(low = 1, high = 10+1, size = (100,100))\n",
    "\n",
    "#Which row has largest mean?\n",
    "\n",
    "print(X.mean(axis = 1).argmax())\n",
    "\n",
    "#Which colimn has smallest sum?\n",
    "\n",
    "print(X.sum(axis = 0).argmin())\n",
    "\n",
    "#Which is the first column (from left to right) to have sum exceding 600?\n",
    "\n",
    "print(np.argwhere((X.sum(axis = 0)>600)).min())\n"
   ]
  },
  {
   "cell_type": "markdown",
   "metadata": {},
   "source": [
    "# Question 4\n",
    "\n",
    "Newton's method is a numerical method finding the roots of a function.  Newton's method is\n",
    "\n",
    "$$ x_{n+1} = x_{n} - \\dfrac{f(x_n)}{f'(x_n)} $$\n",
    "\n",
    "Below, I've written a function to try to use Newton's method to find the two roots of the function $f(x) = \\exp(-x)\\ln(x+1) - 0.25$.\n",
    "\n",
    "My function should:\n",
    "\n",
    "* Terminate when $\\vert f(x_n) \\vert < 1\\times10^{-8}$ or when the number of iterations exceeds 1000.\n",
    "\n",
    "* Take as its first argument the starting point for the method (i.e $x_0$)\n",
    "\n",
    "* Take as its second argument the function $f$\n",
    "\n",
    "* Take as its third argument the function $f'$\n",
    "\n",
    "My code, as it stands, does not return the right answer.  Look through the code and debug the function so that it returns answers similar to `scipy.optimize.newton`.  Please don't completely rewrite the code (I spent a long time on it and want to learn what I messed up!).\n",
    "\n",
    "\n",
    "Don't worry about `f` and `fprime`.  I've ensured those are correct.\n",
    "\n",
    "\n",
    "**Rationale Behind Question**:  Debugging is an essential skill"
   ]
  },
  {
   "cell_type": "code",
   "execution_count": 19,
   "metadata": {},
   "outputs": [
    {
     "ename": "SyntaxError",
     "evalue": "unexpected character after line continuation character (<ipython-input-19-d3134f5a1b35>, line 12)",
     "output_type": "error",
     "traceback": [
      "\u001b[0;36m  File \u001b[0;32m\"<ipython-input-19-d3134f5a1b35>\"\u001b[0;36m, line \u001b[0;32m12\u001b[0m\n\u001b[0;31m    x_n -= f(x_n)\\fprime(x_n)\u001b[0m\n\u001b[0m                             ^\u001b[0m\n\u001b[0;31mSyntaxError\u001b[0m\u001b[0;31m:\u001b[0m unexpected character after line continuation character\n"
     ]
    }
   ],
   "source": [
    "f = lambda x: np.exp(-x)*np.log(x+1) - 0.25\n",
    "fprime = lambda x: -np.exp(-x)*np.log(x+1) + np.exp(-x)/(x+1)\n",
    "\n",
    "def broken_newtons_method(x0,f, fprime, tol = 1e-8, maxiter = 1000):\n",
    "    \n",
    "    res = float('inf')\n",
    "    iters = 0\n",
    "    x_n = x0\n",
    "    \n",
    "    while (res<tol) and (iters<maxiter):\n",
    "        \n",
    "        x_n -= f(x_n)\\fprime(x_n)\n",
    "        \n",
    "        res = abs(f(x_n))\n",
    "        \n",
    "    return x_n\n",
    "        \n",
    "    \n",
    "print('My algorithm, starting at 0.01, yields answer: ',broken_newtons_method(0.01,f,fprime))\n",
    "print('My algorithm, starting at 2, yields answer: ', broken_newtons_method(2,f,fprime))\n",
    "        \n",
    "\n",
    "#compare with scipy\n",
    "from scipy.optimize import newton\n",
    "\n",
    "print('scipy.optimize.newton starting at 0.01 returns ',newton(f,0.01))\n",
    "print('scipy.optimize.newton returns at 2 returns ', newton(f,2))"
   ]
  },
  {
   "cell_type": "code",
   "execution_count": null,
   "metadata": {},
   "outputs": [],
   "source": [
    "#Solution\n",
    "f = lambda x: np.exp(-x)*np.log(x+1) - 0.25\n",
    "fprime = lambda x: -np.exp(-x)*np.log(x+1) + np.exp(-x)/(x+1)\n",
    "\n",
    "\n",
    "def true_newtons_method(x0,f, fprime, tol = 1e-8, maxiter = 1000):\n",
    "    \n",
    "    res = float('inf')\n",
    "    iters = 0\n",
    "    x_n = x0\n",
    "    \n",
    "    #Had the wrong sign in first  logical\n",
    "    while (res>tol) and (iters<maxiter):\n",
    "        \n",
    "        #Wrong division \n",
    "        x_n -= f(x_n)/fprime(x_n)\n",
    "        #No iteration update\n",
    "        iters+=1\n",
    "        res = abs(f(x_n))\n",
    "\n",
    "        \n",
    "    return x_n\n",
    "        \n",
    "    \n",
    "    \n",
    "from scipy.optimize import newton\n",
    "\n",
    "\n",
    "print(true_newtons_method(0.01,f,fprime))\n",
    "print(newton(f,0.01))\n",
    "\n",
    "print(true_newtons_method(2,f,fprime))\n",
    "print(newton(f,2))"
   ]
  },
  {
   "cell_type": "markdown",
   "metadata": {},
   "source": [
    "# Question 5\n",
    "\n",
    "Estimate through simulation the probability that a baseball player batting 0.300 hits fewer hits than a baseball player batting 0.275 at 45 at bats."
   ]
  },
  {
   "cell_type": "code",
   "execution_count": null,
   "metadata": {},
   "outputs": [],
   "source": [
    "from scipy.stats import binom\n",
    "np.mean(binom(n = 45, p = .3).rvs(1_000_000) < binom(n = 45, p = 0.275).rvs(1_000_000))"
   ]
  },
  {
   "cell_type": "markdown",
   "metadata": {},
   "source": [
    "---\n",
    "# Statistics Questions"
   ]
  },
  {
   "cell_type": "markdown",
   "metadata": {},
   "source": [
    "# Question 1\n",
    "\n",
    "What is the correct interpretation of the 95% confidence interval?\n",
    "\n",
    "A. There is a 95% probability the true mean lies in your interval.\n",
    "\n",
    "B. There is a 95% probability that if you ran the experiment again, the true mean would be in the 95% confidence interval.\n",
    "\n",
    "C. There is a 95% probability that the mean is the midpoint of the interval\n",
    "\n",
    "D. Upon repeated construction, the longterm relative frequency of 95% confidence intervals containing the true mean is 95%.\n",
    "\n",
    "\n",
    "Answer: D"
   ]
  },
  {
   "cell_type": "markdown",
   "metadata": {},
   "source": [
    "# Question 2\n",
    "\n",
    "Bill James is creddited with creating sabermetrics (baseball analytics).  In one of his early \"Baseball Abstracts\", Bill writes...\n",
    "\n",
    ">...If you see 15 games a year, there is a 40% chance that a .275 hitter will have more hits than a .300 hitter.\n",
    "\n",
    "Bill refers to players by their *batting average* (i.e. .275 means the hitter will hit the ball 275 times for every 1000 times they come at bat).  The actual probability is quite smaller than that. Bill wrote this in the late 1970s without the ubiquity of computers to perform the simulations we can.  It is quite plausible that Bill used a Normal approximation to arrive at this conclusion.\n",
    "\n",
    "Assuming that every batter appears 3 times per game for 15 games (for a total of 45 at bats), use a Normal approximation to estimate the probability that a .275 batter hits more hits than a .300 battter.  Assume the batters are independent.\n",
    "\n"
   ]
  },
  {
   "cell_type": "markdown",
   "metadata": {},
   "source": [
    "# Solution\n",
    "\n",
    "Let $A \\sim \\mbox{Binom}(0.275,45)$ and $B \\sim \\mbox{Binom}(0.300,45)$.  \n",
    "\n",
    "We are looking for $p(A>B)$ or alternatively $p(0<A-B)$.\n",
    "\n",
    "The expectation of $A-B$ is $E(A-B) = E(A) - E(B)  \\approx 1.12$\n",
    "\n",
    "The variance of $A-B$ is $\\operatorname{Var}(A-B) = \\operatorname{Var}(A) + \\operatorname{Var}(B) - 2\\operatorname{Cov}(A,B)$.\n",
    "\n",
    "Since batters are assumed to be indpenendent, $\\operatorname{Cov}(A,B) = 0$.\n",
    "\n",
    "So the variance is then $\\operatorname{Var}(A) + \\operatorname{Var}(B) \\approx 18.42$\n",
    "\n",
    "The Normal approximation is then $A-B \\sim \\mathcal{N}(1.12, 18.42)$\n",
    "\n",
    "and so the probability that $A-B>0$ is $1- \\mathbf{\\Phi}(0) \\approx 0.4$\n",
    "\n",
    "Where $\\mathbf{\\Phi}$ is the CDF for our normal approximation.\n",
    "\n"
   ]
  },
  {
   "cell_type": "code",
   "execution_count": null,
   "metadata": {},
   "outputs": [],
   "source": [
    "from scipy.stats import norm\n",
    "\n",
    "\n",
    "norm(loc = 1.12, scale = np.sqrt(18.42)).cdf(0)"
   ]
  },
  {
   "cell_type": "markdown",
   "metadata": {},
   "source": [
    "# Question 3\n",
    "\n",
    "A diagnostic test has a 99% chance of correctly labeling a person as sick if they are truly sick.  The probability that the test labels someone as sick, regardless of disease status is 98%.  If 0.1% of the population has this disease, what is the probability you have the disease if your test comes back positive?"
   ]
  },
  {
   "cell_type": "markdown",
   "metadata": {},
   "source": [
    "# Solution\n",
    "\n",
    "Applying Bayes' Theorem...\n",
    "\n",
    "$$ p(D+ \\vert T+)  = \\dfrac{p(T+ \\vert D+) p(D+) }{p(T+)} = \\dfrac{0.99 \\times 0.001}{0.98}$$\n",
    "\n",
    "$$ \\approx 0.1\\%$$"
   ]
  },
  {
   "cell_type": "markdown",
   "metadata": {},
   "source": [
    "# Question 4\n",
    "\n",
    "Why might someone want to know the median rather than the mean of their data?\n",
    "\n",
    "# Solution\n",
    "\n",
    "The median is far less sensitive to outliers than the mean.  If the data have many outliers, then the mean might not be a good measure of central tendency."
   ]
  },
  {
   "cell_type": "markdown",
   "metadata": {},
   "source": [
    "# Question 5\n",
    "\n",
    "You obtain a dataset with $n$ rows and $n$ columns (the same number of rows and columns). Each column houses numeric data (no categories, just numbers). You're asked to perform a linear regression this data (the outcome is in a different file.  It is not one of the $n$ columns).  Assume that the data matrix is full rank.\n",
    "\n",
    "What will the $R^2$ of this regression be?\n",
    "\n",
    "# Solution\n",
    "\n",
    "$R^2$ will be one since the problem is perfectly determined."
   ]
  },
  {
   "cell_type": "markdown",
   "metadata": {},
   "source": [
    "---\n",
    "\n",
    "# Linear Algebra Questions"
   ]
  },
  {
   "cell_type": "markdown",
   "metadata": {},
   "source": [
    "# Question 1\n",
    "\n",
    "If $A$ $n \\times n$ is a matrix, and $A$ has full rank, is $A$ invertible?\n",
    "\n",
    "Answer: Yes."
   ]
  },
  {
   "cell_type": "markdown",
   "metadata": {},
   "source": [
    "# Question 2\n",
    "\n",
    "If a matrix, $A$, is positive definite, which of the following is false:\n",
    "\n",
    "A) $\\mathbf{x}^T A \\mathbf{x} >0 $ for every vector which is not 0\n",
    "\n",
    "B) Every element of A is positive\n",
    "\n",
    "C) The Eigenvalues of A are positive\n",
    "\n",
    "D) A is symmetric\n",
    "\n",
    "Answer: B"
   ]
  },
  {
   "cell_type": "markdown",
   "metadata": {},
   "source": [
    "# Question 3\n",
    "\n",
    "Let $x$ and $y$ be vectors such that $\\vert x \\vert = 3$ and $\\vert y \\vert = 4$.  Use the triangle inequality to put an upper bound on the length of $\\vert x+y \\vert$.\n",
    "\n",
    "Anwer: $\\vert x+y \\vert \\leq \\vert x \\vert + \\vert y \\vert =7$\n",
    "\n"
   ]
  },
  {
   "cell_type": "markdown",
   "metadata": {},
   "source": [
    "\n"
   ]
  },
  {
   "cell_type": "markdown",
   "metadata": {},
   "source": [
    "# Question 4\n",
    "\n",
    "Let $A$ be a matrix, and let $\\mathbf{x},\\mathbf{y}$ be vectors.  If $A\\mathbf{x} = [4,3,2]^T$ and $A\\mathbf{y} = [-1,2,0]^T$ what is $A(2\\mathbf{x} - \\mathbf{y})$?\n",
    "\n",
    "Answer: $A(2\\mathbf{x} - \\mathbf{y}) = 2A\\mathbf{x} - A\\mathbf{y} = [8,6,4]^T - [-1,2,0]^T = [9,8,4]^T$"
   ]
  },
  {
   "cell_type": "code",
   "execution_count": null,
   "metadata": {},
   "outputs": [],
   "source": []
  }
 ],
 "metadata": {
  "kernelspec": {
   "display_name": "Python 3",
   "language": "python",
   "name": "python3"
  },
  "language_info": {
   "codemirror_mode": {
    "name": "ipython",
    "version": 3
   },
   "file_extension": ".py",
   "mimetype": "text/x-python",
   "name": "python",
   "nbconvert_exporter": "python",
   "pygments_lexer": "ipython3",
   "version": "3.7.3"
  }
 },
 "nbformat": 4,
 "nbformat_minor": 2
}
